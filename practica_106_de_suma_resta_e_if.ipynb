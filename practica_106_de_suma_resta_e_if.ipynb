{
  "nbformat": 4,
  "nbformat_minor": 0,
  "metadata": {
    "colab": {
      "provenance": [],
      "authorship_tag": "ABX9TyPGOz8NSMCEMYKIRRD5agv1",
      "include_colab_link": true
    },
    "kernelspec": {
      "name": "python3",
      "display_name": "Python 3"
    },
    "language_info": {
      "name": "python"
    }
  },
  "cells": [
    {
      "cell_type": "markdown",
      "metadata": {
        "id": "view-in-github",
        "colab_type": "text"
      },
      "source": [
        "<a href=\"https://colab.research.google.com/github/A-diel/A-diel/blob/main/practica_106_de_suma_resta_e_if.ipynb\" target=\"_parent\"><img src=\"https://colab.research.google.com/assets/colab-badge.svg\" alt=\"Open In Colab\"/></a>"
      ]
    },
    {
      "cell_type": "code",
      "execution_count": 21,
      "metadata": {
        "colab": {
          "base_uri": "https://localhost:8080/"
        },
        "id": "gM_ynweQiZRZ",
        "outputId": "c82aed25-51ba-4225-ebf2-96dfcb2b9259"
      },
      "outputs": [
        {
          "output_type": "stream",
          "name": "stdout",
          "text": [
            "안녕\n",
            "안녕  hola\n",
            "correcto esto es hola estas bien\n"
          ]
        }
      ],
      "source": [
        "print(\"안녕\")\n",
        "input(\"안녕  \")\n",
        "print(\"correcto esto es hola estas bien\")\n"
      ]
    },
    {
      "cell_type": "code",
      "source": [
        "def convertir(celsius):\n",
        " farenheit = (celsius*(9/5))+32 \n",
        " return farenheit\n"
      ],
      "metadata": {
        "id": "jtxCQcB8jw-F"
      },
      "execution_count": 3,
      "outputs": []
    },
    {
      "cell_type": "code",
      "source": [
        "convertir(32.5)"
      ],
      "metadata": {
        "colab": {
          "base_uri": "https://localhost:8080/"
        },
        "id": "wt5SIDrWkvDu",
        "outputId": "7daad6f8-5d5b-4e65-e75b-1cae9d0f44de"
      },
      "execution_count": 5,
      "outputs": [
        {
          "output_type": "execute_result",
          "data": {
            "text/plain": [
              "90.5"
            ]
          },
          "metadata": {},
          "execution_count": 5
        }
      ]
    },
    {
      "cell_type": "code",
      "source": [
        "cels = input(\"Ingresa los grados a convertir: \") \n",
        "print(cels) \n",
        "type(cels)\n"
      ],
      "metadata": {
        "colab": {
          "base_uri": "https://localhost:8080/"
        },
        "id": "v6o-cqJ2nubB",
        "outputId": "8418cadd-8f69-41d1-b452-326af12631b9"
      },
      "execution_count": 10,
      "outputs": [
        {
          "output_type": "stream",
          "name": "stdout",
          "text": [
            "Ingresa los grados a convertir: 45\n",
            "45\n"
          ]
        },
        {
          "output_type": "execute_result",
          "data": {
            "text/plain": [
              "str"
            ]
          },
          "metadata": {},
          "execution_count": 10
        }
      ]
    },
    {
      "cell_type": "code",
      "source": [
        "convertir(180)"
      ],
      "metadata": {
        "colab": {
          "base_uri": "https://localhost:8080/"
        },
        "id": "SFOCWfaXoRu1",
        "outputId": "d3ecdc4c-7fe5-46ad-fe53-24348f5d7549"
      },
      "execution_count": 15,
      "outputs": [
        {
          "output_type": "execute_result",
          "data": {
            "text/plain": [
              "356.0"
            ]
          },
          "metadata": {},
          "execution_count": 15
        }
      ]
    },
    {
      "cell_type": "code",
      "source": [
        "convertir(float(cels))"
      ],
      "metadata": {
        "colab": {
          "base_uri": "https://localhost:8080/"
        },
        "id": "z6_CBpH8pJUz",
        "outputId": "6d21ef3e-6c98-4e67-cc0b-e8c6878cef0d"
      },
      "execution_count": 13,
      "outputs": [
        {
          "output_type": "execute_result",
          "data": {
            "text/plain": [
              "113.0"
            ]
          },
          "metadata": {},
          "execution_count": 13
        }
      ]
    },
    {
      "cell_type": "code",
      "source": [
        "def calcular(opcion):\n",
        "   if(opcion == \"1\" or opcion == \"2\"):\n",
        "      num1 = float(input(\"Ingresar el primer número: \")) \n",
        "      num2 = float(input(\"Ingresar el segundo número: \"))\n",
        "      if opcion == \"1\": \n",
        "        print(\"Suma\", num1, \"+\", num2, \"=\", num1+num2) \n",
        "      elif opcion == \"2\": \n",
        "        print(\"Resta\", num1, \"-\", num2, \"=\", num1-num2) \n",
        "   else: print(\"Entrada no válida\")\n"
      ],
      "metadata": {
        "id": "PGML4j3Jq5l7"
      },
      "execution_count": 23,
      "outputs": []
    },
    {
      "cell_type": "code",
      "source": [
        "# INSTRUCCIONES PARA EL USAURIO \n",
        "print(\"1. SUMA\") \n",
        "print(\"2. RESTA\") \n",
        "#TOMA ENTRADA DEL USUARIO \n",
        "opcion = input(\"Dame tú opción (1/2): \")\n",
        " #LLAMANDO A FUNCION CALCULAR \n",
        "calcular(opcion)\n"
      ],
      "metadata": {
        "colab": {
          "base_uri": "https://localhost:8080/"
        },
        "id": "mUr6e60os8yb",
        "outputId": "5fba3f3c-b9af-4e88-bc72-db9bdb25756e"
      },
      "execution_count": 25,
      "outputs": [
        {
          "output_type": "stream",
          "name": "stdout",
          "text": [
            "1. SUMA\n",
            "2. RESTA\n",
            "Dame tú opción (1/2): 2\n",
            "Ingresar el primer número: 10\n",
            "Ingresar el segundo número: 15\n",
            "Resta 10.0 - 15.0 = -5.0\n"
          ]
        }
      ]
    }
  ]
}